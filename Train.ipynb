{
 "cells": [
  {
   "cell_type": "code",
   "execution_count": 8,
   "metadata": {
    "_cell_guid": "b1076dfc-b9ad-4769-8c92-a6c4dae69d19",
    "_uuid": "8f2839f25d086af736a60e9eeb907d3b93b6e0e5",
    "execution": {
     "iopub.execute_input": "2022-06-08T08:14:14.739076Z",
     "iopub.status.busy": "2022-06-08T08:14:14.738722Z",
     "iopub.status.idle": "2022-06-08T08:14:14.744857Z",
     "shell.execute_reply": "2022-06-08T08:14:14.743909Z",
     "shell.execute_reply.started": "2022-06-08T08:14:14.739024Z"
    }
   },
   "outputs": [],
   "source": [
    "import pandas as pd\n",
    "import matplotlib.pyplot as plt\n",
    "import warnings\n",
    "import xgboost as xgb\n",
    "from sklearn.model_selection import GridSearchCV\n",
    "from sklearn.metrics import accuracy_score\n",
    "from sklearn.metrics import f1_score\n",
    "from sklearn.metrics import confusion_matrix\n",
    "from xgboost import plot_importance\n",
    "from sklearn.preprocessing import MinMaxScaler\n",
    "warnings.filterwarnings(\"ignore\")"
   ]
  },
  {
   "cell_type": "code",
   "execution_count": 10,
   "metadata": {
    "_cell_guid": "79c7e3d0-c299-4dcb-8224-4455121ee9b0",
    "_uuid": "d629ff2d2480ee46fbb7e2d37f6b5fab8052498a",
    "execution": {
     "iopub.execute_input": "2022-06-08T08:14:34.656699Z",
     "iopub.status.busy": "2022-06-08T08:14:34.656364Z",
     "iopub.status.idle": "2022-06-08T08:15:44.107135Z",
     "shell.execute_reply": "2022-06-08T08:15:44.106147Z",
     "shell.execute_reply.started": "2022-06-08T08:14:34.656644Z"
    }
   },
   "outputs": [],
   "source": [
    "user = pd.read_csv(\"./data/user_data.csv\")\n",
    "item = pd.read_csv(\"./data/item_data.csv\")\n",
    "train = pd.read_csv(\"./data/data_train.csv\")\n",
    "eval = pd.read_csv(\"./data/data_eval.csv\")\n",
    "test = pd.read_csv(\"./data/data_test.csv\")"
   ]
  },
  {
   "cell_type": "code",
   "execution_count": null,
   "metadata": {
    "execution": {
     "iopub.execute_input": "2022-06-08T08:15:44.109949Z",
     "iopub.status.busy": "2022-06-08T08:15:44.109555Z",
     "iopub.status.idle": "2022-06-08T08:15:44.117951Z",
     "shell.execute_reply": "2022-06-08T08:15:44.116977Z",
     "shell.execute_reply.started": "2022-06-08T08:15:44.109860Z"
    }
   },
   "outputs": [],
   "source": [
    "def get_xy(data, predict_date):\n",
    "    '''\n",
    "    input:\n",
    "        data: pd.Datafram\n",
    "        predict_date: str\n",
    "    output:\n",
    "        (x_train, y_train): tuple of pd.Dataframe\n",
    "    '''\n",
    "    assert isinstance(data, pd.DataFrame)\n",
    "    assert isinstance(predict_date,str)\n",
    "    \n",
    "    end_date = predict_date[:-1] + str(int(predict_date[-1])+1)\n",
    "    labels = user[(user[\"time\"] >= predict_date)&(user[\"time\"] < end_date)&(user[\"behavior_type\"] == 4)][[\"user_id\", \"item_id\"]]\n",
    "    labels = labels.drop_duplicates()\n",
    "    labels[\"whether_buy\"] = 1\n",
    "    data = pd.merge(data, labels, how=\"left\", on=[\"user_id\", \"item_id\"])\n",
    "    data[\"whether_buy\"] = data[\"whether_buy\"].fillna(0)\n",
    "    x_train = data.drop([\"user_id\", \"item_id\", \"item_category\", \"whether_buy\"], axis=1)\n",
    "    y_train = data[\"whether_buy\"]\n",
    "    return (x_train, y_train)\n",
    "\n",
    "(x_train,y_train) = get_xy(train, \"2014-12-17\")\n",
    "(x_eval,y_eval) = get_xy(eval, \"2014-12-18\")\n",
    "d_test = test.drop([\"user_id\", \"item_id\", \"item_category\"], axis=1)"
   ]
  },
  {
   "cell_type": "code",
   "execution_count": null,
   "metadata": {
    "execution": {
     "iopub.execute_input": "2022-06-08T08:16:07.002738Z",
     "iopub.status.busy": "2022-06-08T08:16:07.002464Z",
     "iopub.status.idle": "2022-06-08T08:16:23.582073Z",
     "shell.execute_reply": "2022-06-08T08:16:23.577338Z",
     "shell.execute_reply.started": "2022-06-08T08:16:07.002688Z"
    }
   },
   "outputs": [],
   "source": [
    "xgb_train = xgb.DMatrix(data=x_train,label=y_train)\n",
    "xgb_eval = xgb.DMatrix(data=x_eval,label=y_eval)\n",
    "xbg_test = xgb.DMatrix(data=d_test)"
   ]
  },
  {
   "cell_type": "code",
   "execution_count": null,
   "metadata": {},
   "outputs": [],
   "source": [
    "param_test1 = {\n",
    "            'max_depth':[4,5,6],\n",
    "            'eta':[0.1,0.01,0.001],\n",
    "            'lambda':[6, 8, 10],\n",
    "            'gamma':[0,0.1,0.2]\n",
    "            }\n",
    "gsearch = GridSearchCV(\n",
    "    estimator=xgb.XGBClassifier(objective='rank:pairwise',eval_metric = 'auc'),\n",
    "    param_grid = param_test1\n",
    "    )\n",
    "gsearch.fit(x_train,y_train)"
   ]
  },
  {
   "cell_type": "code",
   "execution_count": null,
   "metadata": {
    "execution": {
     "iopub.execute_input": "2022-06-08T08:17:03.522743Z",
     "iopub.status.busy": "2022-06-08T08:17:03.522399Z",
     "iopub.status.idle": "2022-06-08T08:17:03.528511Z",
     "shell.execute_reply": "2022-06-08T08:17:03.527408Z",
     "shell.execute_reply.started": "2022-06-08T08:17:03.522682Z"
    }
   },
   "outputs": [],
   "source": [
    "params = {\n",
    "    'objective': 'rank:pairwise', \n",
    "    'eval_metric': 'auc',\n",
    "    'gamma': 0.1, \n",
    "    'min_child_weight': 1.1,\n",
    "    'max_depth': 6,\n",
    "    'lambda': 10,\n",
    "    'subsample': 0.7,\n",
    "    'colsample_bytree': 0.7,\n",
    "    'eta': 0.01,\n",
    "    'tree_method':'exact',\n",
    "}\n",
    "res = {}"
   ]
  },
  {
   "cell_type": "code",
   "execution_count": null,
   "metadata": {
    "execution": {
     "iopub.execute_input": "2022-06-08T08:17:04.921106Z",
     "iopub.status.busy": "2022-06-08T08:17:04.920773Z"
    }
   },
   "outputs": [],
   "source": [
    "watch_list = [(xgb_train,'train'),(xgb_eval,'validate')]\n",
    "model_xgb = xgb.train(\n",
    "    params,\n",
    "    xgb_train,\n",
    "    num_boost_round=1000,\n",
    "    evals=watch_list,\n",
    "    early_stopping_rounds=100,\n",
    "    evals_result = res)"
   ]
  },
  {
   "cell_type": "code",
   "execution_count": null,
   "metadata": {},
   "outputs": [],
   "source": [
    "plt.plot(res['train']['auc'], label='train')\n",
    "plt.plot(res['validate']['auc'], label='validate')\n",
    "plt.legend()\n",
    "plt.show()"
   ]
  },
  {
   "cell_type": "code",
   "execution_count": null,
   "metadata": {
    "execution": {
     "iopub.status.busy": "2022-06-08T08:16:23.814451Z",
     "iopub.status.idle": "2022-06-08T08:16:23.814990Z"
    }
   },
   "outputs": [],
   "source": [
    "plot_importance(model_xgb)\n",
    "plt.show()"
   ]
  },
  {
   "cell_type": "code",
   "execution_count": null,
   "metadata": {
    "execution": {
     "iopub.status.busy": "2022-06-08T08:16:23.816030Z",
     "iopub.status.idle": "2022-06-08T08:16:23.816352Z"
    }
   },
   "outputs": [],
   "source": [
    "model_xgb = xgb.train(params,xgb_train,num_boost_round=model_xgb.best_iteration)"
   ]
  },
  {
   "cell_type": "code",
   "execution_count": null,
   "metadata": {
    "execution": {
     "iopub.status.busy": "2022-06-08T08:16:23.817154Z",
     "iopub.status.idle": "2022-06-08T08:16:23.817462Z"
    }
   },
   "outputs": [],
   "source": [
    "eval = user[user[\"time\"] < \"2014-12-18\"][[\"user_id\", \"item_id\", \"item_category\"]]\n",
    "eval = eval.drop_duplicates()\n",
    "eval[\"pred\"] = model_xgb.predict(xgb.DMatrix(x_eval))\n",
    "eval_val = eval[\"pred\"].values.reshape(-1, 1)\n",
    "eval[\"pred\"] = MinMaxScaler().fit_transform(eval_val)"
   ]
  },
  {
   "cell_type": "code",
   "execution_count": null,
   "metadata": {
    "execution": {
     "iopub.status.busy": "2022-06-08T08:16:23.818650Z",
     "iopub.status.idle": "2022-06-08T08:16:23.819099Z"
    }
   },
   "outputs": [],
   "source": [
    "thres = eval[[\"pred\"]].sort_values(by=\"pred\", ascending=False).iloc[500][0]\n",
    "y_pred = eval[\"pred\"].tolist()\n",
    "for i in range(len(y_pred)):\n",
    "    if y_pred[i] <= thres:\n",
    "        y_pred[i] = 0\n",
    "    else:\n",
    "        y_pred[i] = 1\n",
    "y_eval = y_eval.tolist()"
   ]
  },
  {
   "cell_type": "code",
   "execution_count": null,
   "metadata": {
    "execution": {
     "iopub.status.busy": "2022-06-08T08:16:23.820057Z",
     "iopub.status.idle": "2022-06-08T08:16:23.820474Z"
    }
   },
   "outputs": [],
   "source": [
    "acc = accuracy_score(y_pred, y_eval)\n",
    "f1 = f1_score(y_pred, y_eval)\n",
    "print(\"accuracy score: {}\".format(acc))\n",
    "print(\"F1 score : {}\".format(f1))\n",
    "confusion_matrix(y_pred, y_eval) "
   ]
  },
  {
   "cell_type": "code",
   "execution_count": null,
   "metadata": {},
   "outputs": [],
   "source": []
  }
 ],
 "metadata": {
  "interpreter": {
   "hash": "e774977668b7c0ae8309835a5187aa7fbf7669e7d0bb59755bc63e573643edcd"
  },
  "kernelspec": {
   "display_name": "Python 3 (ipykernel)",
   "language": "python",
   "name": "python3"
  },
  "language_info": {
   "codemirror_mode": {
    "name": "ipython",
    "version": 3
   },
   "file_extension": ".py",
   "mimetype": "text/x-python",
   "name": "python",
   "nbconvert_exporter": "python",
   "pygments_lexer": "ipython3",
   "version": "3.9.5"
  }
 },
 "nbformat": 4,
 "nbformat_minor": 4
}
