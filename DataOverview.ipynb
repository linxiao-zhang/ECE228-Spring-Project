{
 "cells": [
  {
   "cell_type": "code",
   "execution_count": null,
   "id": "30dfae12",
   "metadata": {},
   "outputs": [],
   "source": [
    "import numpy as np\n",
    "import pandas as pd\n",
    "import matplotlib.pyplot as plt\n",
    "import seaborn as sns\n",
    "import warnings\n",
    "warnings.filterwarnings(\"ignore\")"
   ]
  },
  {
   "cell_type": "code",
   "execution_count": null,
   "id": "3e0131b1",
   "metadata": {},
   "outputs": [],
   "source": [
    "def reduce_mem_usage(df):\n",
    "    \"\"\"\n",
    "    reduce the memory of dataframe \n",
    "    \"\"\"\n",
    "    start_mem = df.memory_usage().sum() \n",
    "    print('Memory usage of dataframe is {:.2f} MB'.format(start_mem))\n",
    "    \n",
    "    for col in df.columns:\n",
    "        col_type = df[col].dtype\n",
    "        \n",
    "        if col_type != object:\n",
    "            c_min = df[col].min()\n",
    "            c_max = df[col].max()\n",
    "            if str(col_type)[:3] == 'int':\n",
    "                if c_min > np.iinfo(np.int8).min and c_max < np.iinfo(np.int8).max:\n",
    "                    df[col] = df[col].astype(np.int8)\n",
    "                elif c_min > np.iinfo(np.int16).min and c_max < np.iinfo(np.int16).max:\n",
    "                    df[col] = df[col].astype(np.int16)\n",
    "                elif c_min > np.iinfo(np.int32).min and c_max < np.iinfo(np.int32).max:\n",
    "                    df[col] = df[col].astype(np.int32)\n",
    "                elif c_min > np.iinfo(np.int64).min and c_max < np.iinfo(np.int64).max:\n",
    "                    df[col] = df[col].astype(np.int64)  \n",
    "            else:\n",
    "                if c_min > np.finfo(np.float16).min and c_max < np.finfo(np.float16).max:\n",
    "                    df[col] = df[col].astype(np.float16)\n",
    "                elif c_min > np.finfo(np.float32).min and c_max < np.finfo(np.float32).max:\n",
    "                    df[col] = df[col].astype(np.float32)\n",
    "                else:\n",
    "                    df[col] = df[col].astype(np.float64)\n",
    "        else:\n",
    "            df[col] = df[col].astype('category')\n",
    "\n",
    "    end_mem = df.memory_usage().sum() \n",
    "    print('Memory usage after optimization is: {:.2f} MB'.format(end_mem))\n",
    "    print('Decreased by {:.1f}%'.format(100 * (start_mem - end_mem) / start_mem))\n",
    "    \n",
    "    return df"
   ]
  },
  {
   "cell_type": "code",
   "execution_count": null,
   "id": "2c2c087e",
   "metadata": {},
   "outputs": [],
   "source": [
    "# load user and item data\n",
    "df_item = pd.read_csv(\"./data/tianchi_mobile_recommend_train_item.csv\")\n",
    "df_user = pd.read_csv(\"./data/tianchi_mobile_recommend_train_user.csv\")\n",
    "df_item = reduce_mem_usage(df_item)\n",
    "df_user = reduce_mem_usage(df_user)\n",
    "df_item.head()"
   ]
  },
  {
   "cell_type": "code",
   "execution_count": null,
   "id": "c0002a34",
   "metadata": {},
   "outputs": [],
   "source": [
    "item_data = pd.read_csv(\"./data/tianchi_mobile_recommend_train_item.csv\")\n",
    "user_data = pd.read_csv(\"./data/tianchi_mobile_recommend_train_user.csv\")"
   ]
  },
  {
   "cell_type": "code",
   "execution_count": null,
   "id": "341cc372",
   "metadata": {},
   "outputs": [],
   "source": [
    "user_data.head()"
   ]
  },
  {
   "cell_type": "code",
   "execution_count": null,
   "id": "dddc50e6",
   "metadata": {},
   "outputs": [],
   "source": [
    "user_data.isnull().sum()/len(user_data)"
   ]
  },
  {
   "cell_type": "code",
   "execution_count": null,
   "id": "24ab1a77",
   "metadata": {},
   "outputs": [],
   "source": [
    "item_data.head()"
   ]
  },
  {
   "cell_type": "code",
   "execution_count": null,
   "id": "8357ec06",
   "metadata": {},
   "outputs": [],
   "source": [
    "item_data.isnull().sum()/len(item_data)"
   ]
  },
  {
   "cell_type": "code",
   "execution_count": null,
   "id": "f1d75241",
   "metadata": {},
   "outputs": [],
   "source": [
    "item_list = item_data[\"item_id\"].unique().tolist()"
   ]
  },
  {
   "cell_type": "code",
   "execution_count": null,
   "id": "b843c9a8",
   "metadata": {},
   "outputs": [],
   "source": [
    "len(user_data[user_data[\"behavior_type\"] == 4])/len(user_data)"
   ]
  },
  {
   "cell_type": "code",
   "execution_count": null,
   "id": "47af6784",
   "metadata": {},
   "outputs": [],
   "source": [
    "user_data[\"time\"] = pd.to_datetime(user_data[\"time\"], format=\"%Y%m%d %H\")\n",
    "user_data[\"date\"] = user_data[\"time\"].dt.date\n",
    "user_data[\"weekday\"] = user_data[\"time\"].dt.weekday\n",
    "user_data[\"hour\"] = user_data[\"time\"].dt.hour\n"
   ]
  },
  {
   "cell_type": "code",
   "execution_count": null,
   "id": "c3d6c94a",
   "metadata": {},
   "outputs": [],
   "source": [
    "# plot everyday buy counts\n",
    "def erveryday_buy_counts(in_itemlist=False):\n",
    "    if in_itemlist == True:\n",
    "        condition = user_data[\"item_id\"].isin(item_list)\n",
    "    else:\n",
    "        condition = True\n",
    "    item_day_buy_count = user_data[(user_data[\"behavior_type\"] == 4)&(condition)][[\"user_id\", \"item_id\", \"date\"]].drop_duplicates()\n",
    "    item_day_buy_count[\"buy_count\"] = 1\n",
    "    item_day_buy_count[\"date\"] = item_day_buy_count[\"date\"].apply(lambda x : str(x)[5:])\n",
    "    item_day_buy_count = item_day_buy_count[[\"date\", \"buy_count\"]].groupby(\"date\", as_index=False).count().sort_values(by=\"date\")\n",
    "    f, ax = plt.subplots(figsize=(20, 5))\n",
    "    fig = sns.barplot(x=item_day_buy_count[\"date\"], y=item_day_buy_count[\"buy_count\"])"
   ]
  },
  {
   "cell_type": "code",
   "execution_count": null,
   "id": "ba51068a",
   "metadata": {},
   "outputs": [],
   "source": [
    "erveryday_buy_counts(in_itemlist=False)"
   ]
  },
  {
   "cell_type": "code",
   "execution_count": null,
   "id": "1af88b47",
   "metadata": {},
   "outputs": [],
   "source": [
    "erveryday_buy_counts(in_itemlist=True)"
   ]
  },
  {
   "cell_type": "code",
   "execution_count": null,
   "id": "400274cb",
   "metadata": {},
   "outputs": [],
   "source": [
    "def weekday_buy_counts(type, in_itemlist=False):\n",
    "    if in_itemlist == True:\n",
    "        condition = user_data[\"item_id\"].isin(item_list)\n",
    "    else:\n",
    "        condition = True\n",
    "    weekday_buy_counts = user_data[(user_data[\"behavior_type\"] == type)&(condition)][[\"weekday\"]]\n",
    "    weekday_buy_counts[\"count\"] = 1\n",
    "    weekday_buy_counts[\"weekday\"] = weekday_buy_counts[\"weekday\"].apply(lambda x: x+1)\n",
    "    weekday_buy_counts = weekday_buy_counts.groupby(\"weekday\", as_index=False).count().sort_values(by=\"count\", ascending=False).reset_index(drop=True)\n",
    "    return weekday_buy_counts\n",
    "def hour_buy_counts(type, in_itemlist=False):\n",
    "    if in_itemlist == True:\n",
    "        condition = user_data[\"item_id\"].isin(item_list)\n",
    "    else:\n",
    "        condition = True\n",
    "    hour_buy_counts = user_data[(user_data[\"behavior_type\"] == type)&(condition)][[\"hour\"]]\n",
    "    hour_buy_counts[\"count\"] = 1\n",
    "    hour_buy_counts = hour_buy_counts.groupby(\"hour\", as_index=False).count().sort_values(by=\"count\", ascending=False).reset_index(drop=True)\n",
    "    return hour_buy_counts"
   ]
  },
  {
   "cell_type": "code",
   "execution_count": null,
   "id": "7b0030f9",
   "metadata": {},
   "outputs": [],
   "source": [
    "data = weekday_buy_counts(4, False)\n",
    "fig = sns.barplot(x=\"weekday\", y=\"count\", data=data)"
   ]
  },
  {
   "cell_type": "code",
   "execution_count": null,
   "id": "7f02e6b7",
   "metadata": {},
   "outputs": [],
   "source": [
    "data = weekday_buy_counts(4, True)\n",
    "fig = sns.barplot(x=\"weekday\", y=\"count\", data=data)\n"
   ]
  },
  {
   "cell_type": "code",
   "execution_count": null,
   "id": "2db21880",
   "metadata": {},
   "outputs": [],
   "source": [
    "data = hour_buy_counts(4,True)\n",
    "fig = sns.barplot(x=\"hour\", y=\"count\", data=data)"
   ]
  },
  {
   "cell_type": "code",
   "execution_count": null,
   "id": "f6cf7273",
   "metadata": {},
   "outputs": [],
   "source": [
    "data = hour_buy_counts(4,True)\n",
    "fig = sns.barplot(x=\"hour\", y=\"count\", data=data)"
   ]
  },
  {
   "cell_type": "code",
   "execution_count": null,
   "id": "b15ac7e5",
   "metadata": {},
   "outputs": [],
   "source": []
  }
 ],
 "metadata": {
  "kernelspec": {
   "display_name": "Python 3 (ipykernel)",
   "language": "python",
   "name": "python3"
  },
  "language_info": {
   "codemirror_mode": {
    "name": "ipython",
    "version": 3
   },
   "file_extension": ".py",
   "mimetype": "text/x-python",
   "name": "python",
   "nbconvert_exporter": "python",
   "pygments_lexer": "ipython3",
   "version": "3.9.5"
  }
 },
 "nbformat": 4,
 "nbformat_minor": 5
}
